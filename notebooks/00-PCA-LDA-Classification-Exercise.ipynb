{
 "cells": [
  {
   "cell_type": "markdown",
   "id": "669cd3c0",
   "metadata": {},
   "source": [
    "# Essential Machine Learning for Physicists\n",
    "\n",
    "<p align=\"right\">\n",
    "  <img src=\"../../misc/tum-logo.png\" width=\"93\" align=\"right\" />\n",
    "  <img src=\"../../misc/sixt-logo.png\" width=\"70\" align=\"right\" /> \n",
    "<left><em>&copy; Zinonas Zinonos</em></left>\n",
    "    \n",
    "<left><em>For more information, visit <a href='https://github.com/zinon/essential-machine-learning-for-physicists'>essential-machine-learning-for-physicists</a></em></left>.\n",
    "___\n",
    "</p>"
   ]
  },
  {
   "cell_type": "markdown",
   "id": "f6719c46",
   "metadata": {},
   "source": [
    "# Comparison of LDA and PCA 2D Projection of a Classification Dataset\n",
    "\n",
    "\n",
    "As we have seen in the lecture, Principal Component Analysis (PCA) applied to data identifies the combination of attributes (principal components, or directions in the feature space) that account for the most variance in the data. \n",
    "\n",
    "Linear Discriminant Analysis (LDA) tries to identify attributes that account for the most variance between classes. In particular, LDA, in contrast to PCA, is a supervised method, using known class labels.\n",
    "\n",
    "The dataset we are going to use in this exercise is the famous Iris data set. Some additional information about the Iris dataset is available at:\n",
    "\n",
    "https://archive.ics.uci.edu/ml/datasets/iris\n",
    "\n",
    "The Iris dataset represents 3 kind of Iris flowers (Setosa, Versicolour and Virginica) with 4 attributes: sepal length, sepal width, petal length and petal width."
   ]
  },
  {
   "cell_type": "code",
   "execution_count": 1,
   "id": "5de9ecf0",
   "metadata": {},
   "outputs": [],
   "source": [
    "import matplotlib.pyplot as plt\n",
    "from sklearn.datasets import load_iris\n",
    "from sklearn import datasets\n",
    "from sklearn.decomposition import PCA\n",
    "from sklearn.discriminant_analysis import LinearDiscriminantAnalysis\n",
    "import pandas as pd\n",
    "import numpy as np"
   ]
  },
  {
   "cell_type": "markdown",
   "id": "a378aae2",
   "metadata": {},
   "source": [
    "# Load the Data\n",
    "\n",
    "Load the Iris dataset. Create the features and target variables. Get the target names. Consider creating a pandas dateframe for your convenience."
   ]
  },
  {
   "cell_type": "code",
   "execution_count": 44,
   "id": "4d436e7a",
   "metadata": {},
   "outputs": [],
   "source": [
    "iris = load_iris()\n",
    "target_names=iris.target_names"
   ]
  },
  {
   "cell_type": "markdown",
   "id": "420d5432",
   "metadata": {},
   "source": [
    "## Preprocessing\n",
    "Divide the dataset into a feature set and corresponding labels."
   ]
  },
  {
   "cell_type": "code",
   "execution_count": 45,
   "id": "d4fc7300",
   "metadata": {},
   "outputs": [
    {
     "data": {
      "text/html": [
       "<div>\n",
       "<style scoped>\n",
       "    .dataframe tbody tr th:only-of-type {\n",
       "        vertical-align: middle;\n",
       "    }\n",
       "\n",
       "    .dataframe tbody tr th {\n",
       "        vertical-align: top;\n",
       "    }\n",
       "\n",
       "    .dataframe thead th {\n",
       "        text-align: right;\n",
       "    }\n",
       "</style>\n",
       "<table border=\"1\" class=\"dataframe\">\n",
       "  <thead>\n",
       "    <tr style=\"text-align: right;\">\n",
       "      <th></th>\n",
       "      <th>sepal length (cm)</th>\n",
       "      <th>sepal width (cm)</th>\n",
       "      <th>petal length (cm)</th>\n",
       "      <th>petal width (cm)</th>\n",
       "      <th>target</th>\n",
       "    </tr>\n",
       "  </thead>\n",
       "  <tbody>\n",
       "    <tr>\n",
       "      <th>102</th>\n",
       "      <td>7.1</td>\n",
       "      <td>3.0</td>\n",
       "      <td>5.9</td>\n",
       "      <td>2.1</td>\n",
       "      <td>virginica</td>\n",
       "    </tr>\n",
       "    <tr>\n",
       "      <th>9</th>\n",
       "      <td>4.9</td>\n",
       "      <td>3.1</td>\n",
       "      <td>1.5</td>\n",
       "      <td>0.1</td>\n",
       "      <td>setosa</td>\n",
       "    </tr>\n",
       "    <tr>\n",
       "      <th>41</th>\n",
       "      <td>4.5</td>\n",
       "      <td>2.3</td>\n",
       "      <td>1.3</td>\n",
       "      <td>0.3</td>\n",
       "      <td>setosa</td>\n",
       "    </tr>\n",
       "    <tr>\n",
       "      <th>73</th>\n",
       "      <td>6.1</td>\n",
       "      <td>2.8</td>\n",
       "      <td>4.7</td>\n",
       "      <td>1.2</td>\n",
       "      <td>versicolor</td>\n",
       "    </tr>\n",
       "    <tr>\n",
       "      <th>127</th>\n",
       "      <td>6.1</td>\n",
       "      <td>3.0</td>\n",
       "      <td>4.9</td>\n",
       "      <td>1.8</td>\n",
       "      <td>virginica</td>\n",
       "    </tr>\n",
       "  </tbody>\n",
       "</table>\n",
       "</div>"
      ],
      "text/plain": [
       "     sepal length (cm)  sepal width (cm)  petal length (cm)  petal width (cm)  \\\n",
       "102                7.1               3.0                5.9               2.1   \n",
       "9                  4.9               3.1                1.5               0.1   \n",
       "41                 4.5               2.3                1.3               0.3   \n",
       "73                 6.1               2.8                4.7               1.2   \n",
       "127                6.1               3.0                4.9               1.8   \n",
       "\n",
       "         target  \n",
       "102   virginica  \n",
       "9        setosa  \n",
       "41       setosa  \n",
       "73   versicolor  \n",
       "127   virginica  "
      ]
     },
     "execution_count": 45,
     "metadata": {},
     "output_type": "execute_result"
    }
   ],
   "source": [
    "df = pd.DataFrame(data= np.c_[iris['data'], iris['target']], columns= iris['feature_names'] + ['target'])\n",
    "df[\"target\"] = df[\"target\"].astype(int)\n",
    "df[\"target\"] = df[\"target\"].map({0:target_names[0], 1:target_names[1], 2:target_names[2]})\n",
    "df.sample(5)"
   ]
  },
  {
   "cell_type": "markdown",
   "id": "f27a47aa",
   "metadata": {},
   "source": [
    "Divide the data into training (70%) and test (30%) sets."
   ]
  },
  {
   "cell_type": "code",
   "execution_count": 46,
   "id": "0efd03a7-90e6-4329-8e17-bb80ccaabf63",
   "metadata": {},
   "outputs": [],
   "source": [
    "X = df.drop('target', axis=1)\n",
    "y = df['target']"
   ]
  },
  {
   "cell_type": "code",
   "execution_count": 47,
   "id": "cd576f06-239a-4acb-b7a1-939605db6989",
   "metadata": {},
   "outputs": [],
   "source": [
    "from sklearn.model_selection import train_test_split"
   ]
  },
  {
   "cell_type": "code",
   "execution_count": 48,
   "id": "2d2ef50f",
   "metadata": {},
   "outputs": [],
   "source": [
    "X_train, X_test, y_train, y_test = train_test_split(X, y, test_size=0.3, random_state = 3)"
   ]
  },
  {
   "cell_type": "code",
   "execution_count": 49,
   "id": "86e0381b-d997-4dd7-84a6-a35ed5be55b3",
   "metadata": {},
   "outputs": [
    {
     "data": {
      "text/plain": [
       "((105, 4), (45, 4))"
      ]
     },
     "execution_count": 49,
     "metadata": {},
     "output_type": "execute_result"
    }
   ],
   "source": [
    "X_train.shape, X_test.shape"
   ]
  },
  {
   "cell_type": "code",
   "execution_count": 50,
   "id": "55842c8d-a60c-4b75-8559-086667362b42",
   "metadata": {},
   "outputs": [
    {
     "data": {
      "text/plain": [
       "((105,), (45,))"
      ]
     },
     "execution_count": 50,
     "metadata": {},
     "output_type": "execute_result"
    }
   ],
   "source": [
    "y_train.shape, y_test.shape"
   ]
  },
  {
   "cell_type": "markdown",
   "id": "5c2b7e6e",
   "metadata": {},
   "source": [
    "# Scaling\n",
    "\n",
    "PCA performs best with a normalized feature set. Perform a standard normalization to normalize our feature set. To do this, use the `StandardScaler` from `sklearn.preprocessing`."
   ]
  },
  {
   "cell_type": "code",
   "execution_count": 51,
   "id": "64df6849",
   "metadata": {},
   "outputs": [],
   "source": [
    "from sklearn.preprocessing import StandardScaler"
   ]
  },
  {
   "cell_type": "code",
   "execution_count": 52,
   "id": "f824ac26-2196-403a-92e7-b749ca27da16",
   "metadata": {},
   "outputs": [],
   "source": [
    "scaler = StandardScaler()"
   ]
  },
  {
   "cell_type": "code",
   "execution_count": 53,
   "id": "570992c7-e00d-43df-ae2b-cfe301a411ae",
   "metadata": {},
   "outputs": [],
   "source": [
    "X_train = scaler.fit_transform(X_train)"
   ]
  },
  {
   "cell_type": "code",
   "execution_count": 54,
   "id": "0fec4d21-cf6a-419e-9a9e-b957a3b054f7",
   "metadata": {},
   "outputs": [],
   "source": [
    "X_test = scaler.transform(X_test)"
   ]
  },
  {
   "cell_type": "markdown",
   "id": "054355aa",
   "metadata": {},
   "source": [
    "# PCA & LDA\n",
    "\n",
    "Now, it is really a matter of few lines of code to perform PCA and LDA using Python's Scikit-Learn library. As mentioned before, PCA depends only upon the feature set and not the label data, whichs makes PCA to be considered as an unsupervised machine learning technique.\n",
    "\n",
    "Performing PCA using Scikit-Learn is a two-step process:\n",
    "\n",
    "1. Initialize the PCA class by passing the number of components to the constructor. Do not specify the number of components in the constructor to be the number of features. Hence, all four of the features in the feature set will be returned for both the training and test sets.\n",
    "2. Call the fit and then transform methods by passing the feature set to these methods. The transform method returns the specified number of principal components.\n",
    "\n",
    "Repeat the previous steps for LDA. Note for LDA, that `n_components` cannot be larger than `min(n_features, n_classes - 1)`. So, the default for LDA will be `3-1=2` components."
   ]
  },
  {
   "cell_type": "code",
   "execution_count": 55,
   "id": "14bc2a87-b16c-4c1b-88d9-ad215a24923e",
   "metadata": {},
   "outputs": [
    {
     "data": {
      "text/plain": [
       "4"
      ]
     },
     "execution_count": 55,
     "metadata": {},
     "output_type": "execute_result"
    }
   ],
   "source": [
    "n_features = X_train.shape[1]\n",
    "n_features"
   ]
  },
  {
   "cell_type": "code",
   "execution_count": 56,
   "id": "44c4ba49",
   "metadata": {},
   "outputs": [],
   "source": [
    "from sklearn.decomposition import PCA"
   ]
  },
  {
   "cell_type": "code",
   "execution_count": 57,
   "id": "22bec221-fc79-4347-a86e-70af80e9fdc3",
   "metadata": {},
   "outputs": [],
   "source": [
    "pca = PCA()"
   ]
  },
  {
   "cell_type": "code",
   "execution_count": 58,
   "id": "01d04461-9afe-43f2-8878-f469bc743e08",
   "metadata": {},
   "outputs": [],
   "source": [
    "X_pca_train = pca.fit_transform(X_train)"
   ]
  },
  {
   "cell_type": "code",
   "execution_count": 59,
   "id": "3818e115-f12d-4659-ae21-bf4e48495aec",
   "metadata": {},
   "outputs": [],
   "source": [
    "X_pca_test = pca.transform(X_test)"
   ]
  },
  {
   "cell_type": "code",
   "execution_count": 60,
   "id": "04159aad-f125-4669-8d31-ea1f00cec5b2",
   "metadata": {},
   "outputs": [],
   "source": [
    "from sklearn.discriminant_analysis import LinearDiscriminantAnalysis"
   ]
  },
  {
   "cell_type": "code",
   "execution_count": 61,
   "id": "42629f64-889d-4bf4-a240-40b97a7f817c",
   "metadata": {},
   "outputs": [],
   "source": [
    "lda = LinearDiscriminantAnalysis()"
   ]
  },
  {
   "cell_type": "code",
   "execution_count": 62,
   "id": "3b319bb9-32f8-494a-b478-f52a726bb9b9",
   "metadata": {},
   "outputs": [],
   "source": [
    "X_lda_train = lda.fit_transform(X=X_train, y=y_train)\n",
    "X_lda_test = lda.transform(X_test)"
   ]
  },
  {
   "cell_type": "markdown",
   "id": "949394d6",
   "metadata": {},
   "source": [
    "The PCA and LDA classes contain the attribute `explained_variance_ratio_` which returns the variance caused by each of the principal components. Show the \"explained variance ratio\" for each class. What do you observe?\n",
    "\n",
    "Note: the `explained_variance_ratio_` has a shape of `(n_components,)`."
   ]
  },
  {
   "cell_type": "code",
   "execution_count": 63,
   "id": "08d9e18d",
   "metadata": {},
   "outputs": [
    {
     "data": {
      "text/plain": [
       "array([0.72, 0.23, 0.04, 0.  ])"
      ]
     },
     "execution_count": 63,
     "metadata": {},
     "output_type": "execute_result"
    }
   ],
   "source": [
    "exp_var_pca = pca.explained_variance_ratio_\n",
    "exp_var_pca.round(2)"
   ]
  },
  {
   "cell_type": "code",
   "execution_count": 64,
   "id": "25899e83-4fb0-4c7c-ab10-6792c9efa8e4",
   "metadata": {},
   "outputs": [
    {
     "data": {
      "text/plain": [
       "array([[ 0.5196075 , -0.26285367,  0.58445384,  0.56509264],\n",
       "       [ 0.37709405,  0.92420964,  0.02960444,  0.05253753],\n",
       "       [ 0.71321512, -0.25045982, -0.12547617, -0.64253389],\n",
       "       [-0.28130467,  0.11838227,  0.80111985, -0.51484008]])"
      ]
     },
     "execution_count": 64,
     "metadata": {},
     "output_type": "execute_result"
    }
   ],
   "source": [
    "pca.components_"
   ]
  },
  {
   "cell_type": "code",
   "execution_count": 65,
   "id": "e7a5ae3e-a101-47ee-85a3-66b77641f1ca",
   "metadata": {},
   "outputs": [
    {
     "data": {
      "text/plain": [
       "array([0.99, 0.01])"
      ]
     },
     "execution_count": 65,
     "metadata": {},
     "output_type": "execute_result"
    }
   ],
   "source": [
    "exp_var_lda = lda.explained_variance_ratio_\n",
    "exp_var_lda.round(2)"
   ]
  },
  {
   "cell_type": "markdown",
   "id": "fafe8505",
   "metadata": {},
   "source": [
    "**Observation:** in the \"solutions\" notebook."
   ]
  },
  {
   "cell_type": "markdown",
   "id": "169c5353",
   "metadata": {},
   "source": [
    "Plot the variance against principal components for PCA and LDA."
   ]
  },
  {
   "cell_type": "code",
   "execution_count": 66,
   "id": "854615a1",
   "metadata": {},
   "outputs": [
    {
     "data": {
      "image/png": "[encoded data removed]",
      "text/plain": [
       "<Figure size 640x480 with 1 Axes>"
      ]
     },
     "metadata": {},
     "output_type": "display_data"
    }
   ],
   "source": [
    "plt.plot(np.cumsum(pca.explained_variance_ratio_), label=\"PCA\")\n",
    "plt.plot(np.cumsum(lda.explained_variance_ratio_), label=\"LDA\")\n",
    "plt.xlabel('number of components')\n",
    "plt.ylabel('cumulative explained variance')\n",
    "plt.legend()\n",
    "plt.grid();"
   ]
  },
  {
   "cell_type": "markdown",
   "id": "265a6743",
   "metadata": {},
   "source": [
    "Plot the test samples on the 2 first principal components."
   ]
  },
  {
   "cell_type": "code",
   "execution_count": 67,
   "id": "4c39d61a",
   "metadata": {
    "scrolled": true
   },
   "outputs": [
    {
     "data": {
      "image/png": "[encoded data removed]",
      "text/plain": [
       "<Figure size 1200x500 with 2 Axes>"
      ]
     },
     "metadata": {},
     "output_type": "display_data"
    }
   ],
   "source": [
    "_, (pca_ax, kpca_ax) = plt.subplots(ncols=2, sharex=True, sharey=True, figsize=(12, 5))\n",
    "\n",
    "colors = [\"navy\", \"turquoise\", \"darkorange\"]\n",
    "lw = 2\n",
    "\n",
    "for color, i, target_name in zip(colors, [0, 1, 2], target_names):\n",
    "    pca_ax.scatter(\n",
    "        X_pca_test[y_test == target_name, 0], \n",
    "        X_pca_test[y_test == target_name, 1], \n",
    "        color=color, \n",
    "        alpha=0.8, \n",
    "        lw=lw, \n",
    "        label=target_name\n",
    "    )\n",
    "pca_ax.legend(loc=\"best\", shadow=False, scatterpoints=1)\n",
    "pca_ax.set_title(\"PCA of the Iris test set\")\n",
    "pca_ax.set_ylabel(\"PC1\")\n",
    "pca_ax.set_xlabel(\"PC0\")\n",
    "\n",
    "for color, i, target_name in zip(colors, [0, 1, 2], target_names):\n",
    "    kpca_ax.scatter(\n",
    "        X_lda_test[y_test == target_name, 0], \n",
    "        X_lda_test[y_test == target_name, 1], \n",
    "        alpha=0.8, \n",
    "        color=color, \n",
    "        label=target_name\n",
    "    )\n",
    "kpca_ax.legend(loc=\"best\", shadow=False, scatterpoints=1)\n",
    "kpca_ax.set_title(\"LDA of the Iris test set\")\n",
    "kpca_ax.set_xlabel(\"PC0\");"
   ]
  },
  {
   "cell_type": "markdown",
   "id": "e8dd2255",
   "metadata": {},
   "source": [
    "# Train a Classifier\n",
    "\n",
    "Use a Random Forest classification (max depth = 3) for making the predictions. \n",
    "Use the PCA- and LDA-projected data for training and testing.\n",
    "Report the model's accuracy on the test set. Record your result in a dictionary for a later usage (we will compare all findings in the same bar plot)."
   ]
  },
  {
   "cell_type": "code",
   "execution_count": 68,
   "id": "793da075",
   "metadata": {},
   "outputs": [],
   "source": [
    "from sklearn.ensemble import RandomForestClassifier\n",
    "from sklearn.metrics import accuracy_score"
   ]
  },
  {
   "cell_type": "code",
   "execution_count": 69,
   "id": "372c5875-0736-4d2f-8152-83739b3c46c9",
   "metadata": {},
   "outputs": [],
   "source": [
    "classifier = RandomForestClassifier(max_depth=3, random_state=3)\n",
    "classifier.fit(X_pca_train, y_train)\n",
    "\n",
    "# Predicting the Test set results\n",
    "y_pca_test_pred = classifier.predict(X_pca_test)"
   ]
  },
  {
   "cell_type": "code",
   "execution_count": 70,
   "id": "ee00b5ad-9523-451d-a035-fbc5baa5f1b9",
   "metadata": {},
   "outputs": [
    {
     "data": {
      "text/plain": [
       "0.91"
      ]
     },
     "execution_count": 70,
     "metadata": {},
     "output_type": "execute_result"
    }
   ],
   "source": [
    "round(accuracy_score(y_test, y_pca_test_pred),2)"
   ]
  },
  {
   "cell_type": "code",
   "execution_count": 71,
   "id": "caac8132-79d8-4f48-9822-a4fe9054503f",
   "metadata": {},
   "outputs": [],
   "source": [
    "records = {\"PCA - 4 comp (default)\": accuracy_score(y_test, y_pca_test_pred)}"
   ]
  },
  {
   "cell_type": "code",
   "execution_count": 72,
   "id": "a73610e5-2f40-4c47-8923-7f657650783d",
   "metadata": {},
   "outputs": [],
   "source": [
    "# RF for LDA projections\n",
    "classifier = RandomForestClassifier(max_depth=3, random_state=3)\n",
    "classifier.fit(X_lda_train, y_train)\n",
    "\n",
    "# Predicting the Test set results\n",
    "y_lda_test_pred = classifier.predict(X_lda_test)"
   ]
  },
  {
   "cell_type": "code",
   "execution_count": 73,
   "id": "7a8ca10a-fa01-4164-af5f-5365478ac97d",
   "metadata": {},
   "outputs": [
    {
     "data": {
      "text/plain": [
       "0.98"
      ]
     },
     "execution_count": 73,
     "metadata": {},
     "output_type": "execute_result"
    }
   ],
   "source": [
    "round(accuracy_score(y_test, y_lda_test_pred),2)"
   ]
  },
  {
   "cell_type": "code",
   "execution_count": 74,
   "id": "9446be8e-de8e-40cd-b25d-63d6a2312664",
   "metadata": {},
   "outputs": [],
   "source": [
    "records[\"LDA - 3 comp (default)\"] = accuracy_score(y_test, y_lda_test_pred)"
   ]
  },
  {
   "cell_type": "markdown",
   "id": "c2ca5b73",
   "metadata": {},
   "source": [
    "# Non-default PCA & LDA\n",
    "\n",
    "Let's now try to use:\n",
    "- 1, 2 and 3 principal components for PCA\n",
    "- 1 principal components for LDA\n",
    "to train our algorithms.\n",
    "Use again Random Forest classification (max depth = 3) for making the predictions. \n",
    "Use the PCA- and LDA-projected data for training and testing.\n",
    "Report the model's accuracy on the test set. Record your result in a dictionary for a later usage (we will compare all findings in the same bar plot)."
   ]
  },
  {
   "cell_type": "code",
   "execution_count": 75,
   "id": "e6800d72",
   "metadata": {},
   "outputs": [],
   "source": [
    "# PCA 1\n",
    "pca = PCA(n_components=1)\n",
    "# fit & tranform\n",
    "X_pca_train = pca.fit_transform(X_train)\n",
    "X_pca_test = pca.transform(X_test)"
   ]
  },
  {
   "cell_type": "code",
   "execution_count": 76,
   "id": "9f61a388-1d3b-4d6f-971d-9e74702a71f0",
   "metadata": {},
   "outputs": [],
   "source": [
    "# RF for PCA projections\n",
    "classifier = RandomForestClassifier(max_depth=3, random_state=3)\n",
    "classifier.fit(X_pca_train, y_train)\n",
    "\n",
    "# Predicting the Test set results\n",
    "y_pca_test_pred = classifier.predict(X_pca_test)\n",
    "\n",
    "records[\"PCA - 1 comp\"] = accuracy_score(y_test, y_pca_test_pred)"
   ]
  },
  {
   "cell_type": "code",
   "execution_count": 77,
   "id": "7eaba548-c567-4b5b-96cd-c49625a47f26",
   "metadata": {},
   "outputs": [],
   "source": [
    "# PCA 2\n",
    "pca = PCA(n_components=2)\n",
    "# fit & tranform\n",
    "X_pca_train = pca.fit_transform(X_train)\n",
    "X_pca_test = pca.transform(X_test)"
   ]
  },
  {
   "cell_type": "code",
   "execution_count": 78,
   "id": "441072cd-1dd5-432d-91a8-55c114c2575c",
   "metadata": {},
   "outputs": [],
   "source": [
    "# RF for PCA projections\n",
    "classifier = RandomForestClassifier(max_depth=3, random_state=3)\n",
    "classifier.fit(X_pca_train, y_train)\n",
    "\n",
    "# Predicting the Test set results\n",
    "y_pca_test_pred = classifier.predict(X_pca_test)\n",
    "\n",
    "records[\"PCA - 2 comp\"] = accuracy_score(y_test, y_pca_test_pred)"
   ]
  },
  {
   "cell_type": "code",
   "execution_count": 79,
   "id": "b0ccd7b7-0580-41ce-8b14-e1c285ea31b8",
   "metadata": {},
   "outputs": [],
   "source": [
    "# PCA 3\n",
    "pca = PCA(n_components=3)\n",
    "# fit & tranform\n",
    "X_pca_train = pca.fit_transform(X_train)\n",
    "X_pca_test = pca.transform(X_test)"
   ]
  },
  {
   "cell_type": "code",
   "execution_count": 80,
   "id": "3bb96a83-5ca7-4871-958b-ffe07017530d",
   "metadata": {},
   "outputs": [],
   "source": [
    "# RF for PCA projections\n",
    "classifier = RandomForestClassifier(max_depth=3, random_state=3)\n",
    "classifier.fit(X_pca_train, y_train)\n",
    "\n",
    "# Predicting the Test set results\n",
    "y_pca_test_pred = classifier.predict(X_pca_test)\n",
    "\n",
    "records[\"PCA - 3 comp\"] = accuracy_score(y_test, y_pca_test_pred)"
   ]
  },
  {
   "cell_type": "code",
   "execution_count": 81,
   "id": "291168df-0e05-47f0-a805-1954ffa83fb4",
   "metadata": {},
   "outputs": [],
   "source": [
    "# LDA - 1\n",
    "lda = LinearDiscriminantAnalysis(n_components=1)\n",
    "# fit & tranform\n",
    "X_lda_train = lda.fit_transform(X=X_train, y=y_train)\n",
    "X_lda_test = lda.transform(X_test)"
   ]
  },
  {
   "cell_type": "code",
   "execution_count": 82,
   "id": "f7df7ebe-7160-47d7-a512-4c0f9d435ae2",
   "metadata": {},
   "outputs": [],
   "source": [
    "# RF for LDA projections\n",
    "classifier = RandomForestClassifier(max_depth=3, random_state=3)\n",
    "classifier.fit(X_lda_train, y_train)\n",
    "\n",
    "# Predicting the Test set results\n",
    "y_lda_test_pred = classifier.predict(X_lda_test)\n",
    "\n",
    "records[\"LDA - 1 comp\"] = accuracy_score(y_test, y_lda_test_pred)"
   ]
  },
  {
   "cell_type": "markdown",
   "id": "8363b6c7",
   "metadata": {},
   "source": [
    "# Original data\n",
    "\n",
    "Let's now try to use the original, unprojected dataset to train and test our algorithm.\n",
    "Use again Random Forest classification (max depth = 3) for making the predictions. \n",
    "Report the model's accuracy on the test set. Record your result in a dictionary for a later usage (we will compare all findings in the same bar plot)."
   ]
  },
  {
   "cell_type": "code",
   "execution_count": 83,
   "id": "fd089228",
   "metadata": {},
   "outputs": [],
   "source": [
    "# RF for raw data\n",
    "classifier = RandomForestClassifier(max_depth=3, random_state=3)\n",
    "classifier.fit(X_train, y_train)\n",
    "\n",
    "# Predicting the Test set results\n",
    "y_test_pred = classifier.predict(X_test)\n",
    "\n",
    "records[\"Original data\"] = accuracy_score(y_test, y_test_pred)"
   ]
  },
  {
   "cell_type": "markdown",
   "id": "2d12d50c",
   "metadata": {},
   "source": [
    "# Plot the model accuracy scores\n",
    "\n",
    "Create a bar plot with all model accuracies. Discuss the results."
   ]
  },
  {
   "cell_type": "code",
   "execution_count": 84,
   "id": "9cf85971",
   "metadata": {},
   "outputs": [],
   "source": [
    "import seaborn as sns"
   ]
  },
  {
   "cell_type": "code",
   "execution_count": 85,
   "id": "b7352c20-3938-4f89-8cf2-7cb8f51182e5",
   "metadata": {},
   "outputs": [
    {
     "name": "stderr",
     "output_type": "stream",
     "text": [
      "C:\\Users\\batvi\\AppData\\Local\\Temp\\ipykernel_30848\\2817845725.py:2: FutureWarning: \n",
      "\n",
      "Passing `palette` without assigning `hue` is deprecated and will be removed in v0.14.0. Assign the `x` variable to `hue` and set `legend=False` for the same effect.\n",
      "\n",
      "  sns.barplot(x=list(records.keys()), y=list(records.values()), palette=\"Blues\", ax=ax)\n"
     ]
    },
    {
     "data": {
      "image/png": "[encoded data removed]",
      "text/plain": [
       "<Figure size 1200x500 with 1 Axes>"
      ]
     },
     "metadata": {},
     "output_type": "display_data"
    }
   ],
   "source": [
    "fig, ax = plt.subplots(figsize=(12, 5))\n",
    "sns.barplot(x=list(records.keys()), y=list(records.values()), palette=\"Blues\", ax=ax)\n",
    "plt.xticks(rotation=45, ha='right')\n",
    "ax.set_ylim([0.8, 1])\n",
    "plt.grid();"
   ]
  },
  {
   "cell_type": "markdown",
   "id": "58b4f61d",
   "metadata": {},
   "source": [
    "**Discussion**: From the above experimentation we could achieve optimal level of accuracy while making it possible to significantly reduce the number of features in the dataset. We saw that accuracy achieved with only 1 principal component is very close to the accuracy achieved with will feature set, i.e. $\\sim 97\\%$. It is also pertinent to mention that the accuracy of a classifier doesn't necessarily improve with increased number of principal components. For example, from the PCA results we can see that the accuracy achieved with one principal component ($\\sim 88\\%$) was greater than the one achieved with two principal components ($\\sim 86\\%$). When comparing PCA and LDA, and assuming the number of components is the same, we observe that the latter does overall a better job.\n",
    "\n",
    "The number of principal components to retain in a feature set depends on several conditions. In some datasets, all the features can be contributing equally to the overall variance, therefore all the principal components are crucial to the predictions and none can be ignored. A general rule of thumb is to take number of principal of principal components that contribute to significant variance (via the explained variance ratio) and ignore those with diminishing variance returns. A good way is to plot the variance against principal components (scree plot) and ignore the principal components with diminishing values."
   ]
  }
 ],
 "metadata": {
  "kernelspec": {
   "display_name": "MyVenv",
   "language": "python",
   "name": "myvenv"
  },
  "language_info": {
   "codemirror_mode": {
    "name": "ipython",
    "version": 3
   },
   "file_extension": ".py",
   "mimetype": "text/x-python",
   "name": "python",
   "nbconvert_exporter": "python",
   "pygments_lexer": "ipython3",
   "version": "3.12.6"
  }
 },
 "nbformat": 4,
 "nbformat_minor": 5
}
