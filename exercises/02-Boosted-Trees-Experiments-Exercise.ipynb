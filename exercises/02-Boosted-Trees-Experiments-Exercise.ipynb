{
 "cells": [
  {
   "cell_type": "markdown",
   "id": "5fd5950f",
   "metadata": {},
   "source": [
    "# Essential Machine Learning for Physicists\n",
    "\n",
    "<p align=\"right\">\n",
    "  <img src=\"../../misc/tum-logo.png\" width=\"93\" align=\"right\" />\n",
    "  <img src=\"../../misc/sixt-logo.png\" width=\"70\" align=\"right\" /> \n",
    "<left><em>&copy; Zinonas Zinonos</em></left>\n",
    "    \n",
    "<left><em>For more information, visit <a href='https://github.com/zinon/essential-machine-learning-for-physicists'>essential-machine-learning-for-physicists</a></em></left>.\n",
    "___\n",
    "</p>"
   ]
  },
  {
   "cell_type": "markdown",
   "id": "ecc54fb9",
   "metadata": {},
   "source": [
    "# Machine Learning Experiment\n",
    "\n",
    "The goal of this exercise is to compare the performance of various tree- and ensemble-based machine learning algorithms on a classification problem.\n",
    "\n",
    "## Experiment Setup\n",
    "\n",
    "First off, we will synthesize a quite large and rather complex dataset, which will be used as our benchmark dataset for our all experients. Then, we will create many instances of classification models. Each model will be tested and (cross)validated over our train/test sets.\n",
    "Having our trained models in place, we will compare their abilities which are captured by diffirent figure of merits. These measurements include\n",
    "\n",
    "- fit computation times\n",
    "- metrics such as accuracy and AUC-ROC\n",
    "- overfitting\n",
    "- mean scores and times from a k-Fold cross-validation process\n",
    "\n",
    "## Models\n",
    "\n",
    "We will conduct our experiments with the following classification classes:\n",
    "- DecisionTreeClassifier\n",
    "- RandomForestClassifier\n",
    "- AdaBoostClassifier\n",
    "- GradientBoostingClassifier\n",
    "- HistGradientBoostingClassifier\n",
    "\n",
    "and different flavors:\n",
    " - stumps or deep trees\n",
    " - low or high number of (ensemble) estimators\n",
    " \n",
    "## Results Presentation\n",
    "\n",
    "The results will be summarized in pandas DataFrame tables and straightforwardly displayed using (seaborn) bar plots.\n",
    "\n",
    "## Base Learners\n",
    "\n",
    "Boosting algorithms work in principle with different types of learners. This choice can be tuned via \n",
    "`estimator` parameter, if provided. It is a weak learner used to train the model. By default, it uses `DecisionTreeClassifier` as base weak learner for training purpose. You can also specify different machine learning algorithms. For this experiment, let's keep the default value `None`, which implies the decision trees class as base learner.\n",
    "\n",
    "## Histogram-Based Gradient Boosting\n",
    "\n",
    "Scikit-learn 0.21 introduced two new implementations of gradient boosting trees, \n",
    "namely `HistGradientBoostingClassifier` and `HistGradientBoostingRegressor`, inspired by LightGBM.\n",
    "\n",
    "Each feature in the dataset data is first binned by computing histograms, which are later used to evaluate the potential splits. The number of splits to evaluate is then much smaller. This algorithm becomes much more efficient than gradient boosting when the dataset has over 10,000 samples.\n",
    "\n",
    "These histogram-based estimators can be orders of magnitude faster than GradientBoostingClassifier and GradientBoostingRegressor when the number of samples is larger than tens of thousands of samples.\n",
    "\n",
    "These fast estimators first bin the input samples X into integer-valued bins (typically 256 bins) which tremendously reduces the number of splitting points to consider, and allows the algorithm to leverage integer-based data structures (histograms) instead of relying on sorted continuous values when building the trees.\n",
    "\n",
    "The size of the trees can be controlled through the `max_leaf_nodes`, `max_depth`, and `min_samples_leaf` parameters.\n",
    "\n",
    "The number of bins used to bin the data is controlled with the `max_bins` parameter. \n",
    "Using less bins acts as a form of regularization. It is generally recommended to use as many bins as possible, which is the default.\n",
    "\n",
    "Early-stopping in training is enabled by default if the number of samples is larger than 10,000. The early-stopping behaviour is controlled via the `early_stopping`, `scoring`, `validation_fraction`, `n_iter_no_change`, and tol parameters. \n",
    "By default, early-stopping is performed if there are at least 10,000 samples in the training set, using the validation loss.\n",
    "\n",
    "Ref: https://scikit-learn.org/stable/modules/ensemble.html#histogram-based-gradient-boosting"
   ]
  },
  {
   "cell_type": "markdown",
   "id": "1229f188",
   "metadata": {},
   "source": [
    "#  Synthetic Dataset Generation\n",
    "\n",
    "We will start our experiment by generating a random 2-class classification dataset. This function initially creates clusters of points normally distributed (`std=1`) about vertices of an `n_informative`-dimensional hypercube with sides of length `2*class_sep` and assigns an equal number of clusters to each class. It introduces interdependence between these features and adds various types of further noise to the data.\n",
    "\n",
    "Use `make_classification` function from the `sklearn.datasets` package with the following characteristics:\n",
    "\n",
    "   - n_samples=20000 (number of observations)\n",
    "   - n_features=n_features (number of total features)\n",
    "   - n_informative=7 (number of 'useful' features)\n",
    "   - n_redundant=3 (generated as random linear combinations of the informative features)\n",
    "   - n_classes=2 (binary target/label)\n",
    "   - flip_y=0.2 (high values induce more noise)\n",
    "   - class_sep=0.6, (low values reduce the space between classes and make classification harder)\n",
    "   - weights=[0.7], (set label 0 for 70% and 1 for the rest of the observations)\n",
    "   - random_state=77\n"
   ]
  },
  {
   "cell_type": "markdown",
   "id": "9464adb2",
   "metadata": {},
   "source": [
    "## Import Libraries"
   ]
  },
  {
   "cell_type": "code",
   "execution_count": 3,
   "id": "19787f57",
   "metadata": {},
   "outputs": [],
   "source": [
    "import pandas as pd\n",
    "import numpy as np\n",
    "import matplotlib.pyplot as plt\n",
    "import seaborn as sns \n",
    "from sklearn.datasets import make_classification"
   ]
  },
  {
   "cell_type": "markdown",
   "id": "4f5ca718-c15a-4b5d-b45a-4241b65bfdb7",
   "metadata": {},
   "source": [
    "## Synthetic data set"
   ]
  },
  {
   "cell_type": "code",
   "execution_count": 4,
   "id": "8d534a7f-13b3-4784-8dfe-7b2b08afbe27",
   "metadata": {},
   "outputs": [],
   "source": [
    "n_features = 20\n",
    "X, y = make_classification(\n",
    "    n_samples=20000, # number of observations \n",
    "    n_features=n_features, # number of total features\n",
    "    n_informative=7, # number of 'useful' features\n",
    "    n_redundant=3, # generated as random linear combinations of the informative features.\n",
    "    n_classes=2, # binary target/label,\n",
    "    flip_y=0.2, # high values add more noise\n",
    "    class_sep=0.6, # low values reduce the space between classes and make classification harder\n",
    "    weights=[0.7], # set label 0 for 70% and 1 for the rest of the observations\n",
    "    random_state=77 \n",
    ")"
   ]
  },
  {
   "cell_type": "code",
   "execution_count": 5,
   "id": "1de2518f-be79-4796-b5eb-ca89cfe17ca7",
   "metadata": {},
   "outputs": [],
   "source": [
    "df=pd.DataFrame( np.c_[X,y], columns= [\"X%i\"%i for i in range(n_features)] + [\"target\"] )"
   ]
  },
  {
   "cell_type": "code",
   "execution_count": 7,
   "id": "553358fd-d56b-4fab-a47a-098758eb0583",
   "metadata": {},
   "outputs": [
    {
     "data": {
      "text/html": [
       "<div>\n",
       "<style scoped>\n",
       "    .dataframe tbody tr th:only-of-type {\n",
       "        vertical-align: middle;\n",
       "    }\n",
       "\n",
       "    .dataframe tbody tr th {\n",
       "        vertical-align: top;\n",
       "    }\n",
       "\n",
       "    .dataframe thead th {\n",
       "        text-align: right;\n",
       "    }\n",
       "</style>\n",
       "<table border=\"1\" class=\"dataframe\">\n",
       "  <thead>\n",
       "    <tr style=\"text-align: right;\">\n",
       "      <th></th>\n",
       "      <th>X0</th>\n",
       "      <th>X1</th>\n",
       "      <th>X2</th>\n",
       "      <th>X3</th>\n",
       "      <th>X4</th>\n",
       "      <th>X5</th>\n",
       "      <th>X6</th>\n",
       "      <th>X7</th>\n",
       "      <th>X8</th>\n",
       "      <th>X9</th>\n",
       "      <th>...</th>\n",
       "      <th>X11</th>\n",
       "      <th>X12</th>\n",
       "      <th>X13</th>\n",
       "      <th>X14</th>\n",
       "      <th>X15</th>\n",
       "      <th>X16</th>\n",
       "      <th>X17</th>\n",
       "      <th>X18</th>\n",
       "      <th>X19</th>\n",
       "      <th>target</th>\n",
       "    </tr>\n",
       "  </thead>\n",
       "  <tbody>\n",
       "    <tr>\n",
       "      <th>0</th>\n",
       "      <td>-4.202066</td>\n",
       "      <td>0.516069</td>\n",
       "      <td>0.060859</td>\n",
       "      <td>-0.228050</td>\n",
       "      <td>0.054163</td>\n",
       "      <td>2.138427</td>\n",
       "      <td>-1.235344</td>\n",
       "      <td>1.082029</td>\n",
       "      <td>-2.499569</td>\n",
       "      <td>-0.961666</td>\n",
       "      <td>...</td>\n",
       "      <td>-0.043455</td>\n",
       "      <td>-0.370708</td>\n",
       "      <td>0.229530</td>\n",
       "      <td>-1.261498</td>\n",
       "      <td>3.143437</td>\n",
       "      <td>0.583009</td>\n",
       "      <td>-1.110062</td>\n",
       "      <td>-1.969303</td>\n",
       "      <td>1.866226</td>\n",
       "      <td>0</td>\n",
       "    </tr>\n",
       "    <tr>\n",
       "      <th>1</th>\n",
       "      <td>0.953547</td>\n",
       "      <td>1.217156</td>\n",
       "      <td>-0.252338</td>\n",
       "      <td>-1.444573</td>\n",
       "      <td>1.560444</td>\n",
       "      <td>3.937139</td>\n",
       "      <td>-0.598782</td>\n",
       "      <td>0.541323</td>\n",
       "      <td>1.372927</td>\n",
       "      <td>1.857339</td>\n",
       "      <td>...</td>\n",
       "      <td>-1.425013</td>\n",
       "      <td>0.862562</td>\n",
       "      <td>-0.294055</td>\n",
       "      <td>-1.504451</td>\n",
       "      <td>0.066927</td>\n",
       "      <td>0.886914</td>\n",
       "      <td>1.247775</td>\n",
       "      <td>-0.169234</td>\n",
       "      <td>-0.143864</td>\n",
       "      <td>0</td>\n",
       "    </tr>\n",
       "    <tr>\n",
       "      <th>2</th>\n",
       "      <td>1.710008</td>\n",
       "      <td>0.809242</td>\n",
       "      <td>-0.671311</td>\n",
       "      <td>0.109283</td>\n",
       "      <td>-0.701943</td>\n",
       "      <td>-3.893828</td>\n",
       "      <td>2.528649</td>\n",
       "      <td>0.221925</td>\n",
       "      <td>-1.059011</td>\n",
       "      <td>-2.071261</td>\n",
       "      <td>...</td>\n",
       "      <td>1.002947</td>\n",
       "      <td>-1.999881</td>\n",
       "      <td>-0.328736</td>\n",
       "      <td>-0.709897</td>\n",
       "      <td>-0.727344</td>\n",
       "      <td>-1.131277</td>\n",
       "      <td>1.586610</td>\n",
       "      <td>1.129835</td>\n",
       "      <td>-2.452786</td>\n",
       "      <td>0</td>\n",
       "    </tr>\n",
       "    <tr>\n",
       "      <th>3</th>\n",
       "      <td>1.593131</td>\n",
       "      <td>-0.130314</td>\n",
       "      <td>-1.126868</td>\n",
       "      <td>0.190397</td>\n",
       "      <td>-1.441102</td>\n",
       "      <td>-0.665877</td>\n",
       "      <td>-0.870955</td>\n",
       "      <td>-1.106866</td>\n",
       "      <td>1.606746</td>\n",
       "      <td>1.619420</td>\n",
       "      <td>...</td>\n",
       "      <td>0.451881</td>\n",
       "      <td>0.926109</td>\n",
       "      <td>0.230894</td>\n",
       "      <td>-0.391042</td>\n",
       "      <td>-0.819289</td>\n",
       "      <td>-0.342672</td>\n",
       "      <td>-0.045943</td>\n",
       "      <td>-0.996426</td>\n",
       "      <td>-0.075321</td>\n",
       "      <td>0</td>\n",
       "    </tr>\n",
       "    <tr>\n",
       "      <th>4</th>\n",
       "      <td>0.885233</td>\n",
       "      <td>-0.473345</td>\n",
       "      <td>-2.969667</td>\n",
       "      <td>0.207351</td>\n",
       "      <td>2.270828</td>\n",
       "      <td>3.544694</td>\n",
       "      <td>-2.694877</td>\n",
       "      <td>2.441064</td>\n",
       "      <td>3.213430</td>\n",
       "      <td>3.236964</td>\n",
       "      <td>...</td>\n",
       "      <td>-0.199257</td>\n",
       "      <td>0.552596</td>\n",
       "      <td>2.726086</td>\n",
       "      <td>1.534720</td>\n",
       "      <td>-2.870345</td>\n",
       "      <td>-0.508866</td>\n",
       "      <td>1.775063</td>\n",
       "      <td>0.032031</td>\n",
       "      <td>0.788485</td>\n",
       "      <td>1</td>\n",
       "    </tr>\n",
       "  </tbody>\n",
       "</table>\n",
       "<p>5 rows × 21 columns</p>\n",
       "</div>"
      ],
      "text/plain": [
       "         X0        X1        X2        X3        X4        X5        X6  \\\n",
       "0 -4.202066  0.516069  0.060859 -0.228050  0.054163  2.138427 -1.235344   \n",
       "1  0.953547  1.217156 -0.252338 -1.444573  1.560444  3.937139 -0.598782   \n",
       "2  1.710008  0.809242 -0.671311  0.109283 -0.701943 -3.893828  2.528649   \n",
       "3  1.593131 -0.130314 -1.126868  0.190397 -1.441102 -0.665877 -0.870955   \n",
       "4  0.885233 -0.473345 -2.969667  0.207351  2.270828  3.544694 -2.694877   \n",
       "\n",
       "         X7        X8        X9  ...       X11       X12       X13       X14  \\\n",
       "0  1.082029 -2.499569 -0.961666  ... -0.043455 -0.370708  0.229530 -1.261498   \n",
       "1  0.541323  1.372927  1.857339  ... -1.425013  0.862562 -0.294055 -1.504451   \n",
       "2  0.221925 -1.059011 -2.071261  ...  1.002947 -1.999881 -0.328736 -0.709897   \n",
       "3 -1.106866  1.606746  1.619420  ...  0.451881  0.926109  0.230894 -0.391042   \n",
       "4  2.441064  3.213430  3.236964  ... -0.199257  0.552596  2.726086  1.534720   \n",
       "\n",
       "        X15       X16       X17       X18       X19  target  \n",
       "0  3.143437  0.583009 -1.110062 -1.969303  1.866226       0  \n",
       "1  0.066927  0.886914  1.247775 -0.169234 -0.143864       0  \n",
       "2 -0.727344 -1.131277  1.586610  1.129835 -2.452786       0  \n",
       "3 -0.819289 -0.342672 -0.045943 -0.996426 -0.075321       0  \n",
       "4 -2.870345 -0.508866  1.775063  0.032031  0.788485       1  \n",
       "\n",
       "[5 rows x 21 columns]"
      ]
     },
     "execution_count": 7,
     "metadata": {},
     "output_type": "execute_result"
    }
   ],
   "source": [
    "df[\"target\"] = df[\"target\"].astype(int)\n",
    "df.head()"
   ]
  },
  {
   "cell_type": "code",
   "execution_count": 8,
   "id": "f3ba2e50-3315-4d01-b8f1-d404ffe8e026",
   "metadata": {
    "collapsed": true,
    "jupyter": {
     "outputs_hidden": true
    }
   },
   "outputs": [
    {
     "data": {
      "text/plain": [
       "X0        float64\n",
       "X1        float64\n",
       "X2        float64\n",
       "X3        float64\n",
       "X4        float64\n",
       "X5        float64\n",
       "X6        float64\n",
       "X7        float64\n",
       "X8        float64\n",
       "X9        float64\n",
       "X10       float64\n",
       "X11       float64\n",
       "X12       float64\n",
       "X13       float64\n",
       "X14       float64\n",
       "X15       float64\n",
       "X16       float64\n",
       "X17       float64\n",
       "X18       float64\n",
       "X19       float64\n",
       "target      int64\n",
       "dtype: object"
      ]
     },
     "execution_count": 8,
     "metadata": {},
     "output_type": "execute_result"
    }
   ],
   "source": [
    "df.dtypes"
   ]
  },
  {
   "cell_type": "code",
   "execution_count": 9,
   "id": "f050c04c-08a9-4963-80b8-b1768cfefb85",
   "metadata": {
    "collapsed": true,
    "jupyter": {
     "outputs_hidden": true
    }
   },
   "outputs": [
    {
     "data": {
      "text/plain": [
       "X0        20000\n",
       "X1        20000\n",
       "X2        20000\n",
       "X3        20000\n",
       "X4        20000\n",
       "X5        20000\n",
       "X6        20000\n",
       "X7        20000\n",
       "X8        20000\n",
       "X9        20000\n",
       "X10       20000\n",
       "X11       20000\n",
       "X12       20000\n",
       "X13       20000\n",
       "X14       20000\n",
       "X15       20000\n",
       "X16       20000\n",
       "X17       20000\n",
       "X18       20000\n",
       "X19       20000\n",
       "target        2\n",
       "dtype: int64"
      ]
     },
     "execution_count": 9,
     "metadata": {},
     "output_type": "execute_result"
    }
   ],
   "source": [
    "se_unique = df.nunique().sort_values(ascending=False)\n",
    "se_unique"
   ]
  },
  {
   "cell_type": "markdown",
   "id": "a1ca275b",
   "metadata": {},
   "source": [
    "## Label statistics\n",
    "\n",
    "Show the label statistics. The target columns is called `target`."
   ]
  },
  {
   "cell_type": "code",
   "execution_count": 10,
   "id": "4b0e4395",
   "metadata": {},
   "outputs": [
    {
     "data": {
      "text/plain": [
       "target\n",
       "0    13127\n",
       "1     6873\n",
       "Name: count, dtype: int64"
      ]
     },
     "execution_count": 10,
     "metadata": {},
     "output_type": "execute_result"
    }
   ],
   "source": [
    "value_count =  df['target'].value_counts()\n",
    "value_count"
   ]
  },
  {
   "cell_type": "code",
   "execution_count": 27,
   "id": "fd4fe02f-efd3-491e-8c3a-b777213c2da5",
   "metadata": {},
   "outputs": [
    {
     "data": {
      "image/png": "[encoded data removed]",
      "text/plain": [
       "<Figure size 1000x500 with 1 Axes>"
      ]
     },
     "metadata": {},
     "output_type": "display_data"
    }
   ],
   "source": [
    "fig, ax = plt.subplots(figsize=(10,5))\n",
    "ax.pie(value_count.values/np.sum(value_count.values),\n",
    "       autopct = lambda x: '{:.1f}%'.format(x),\n",
    "       labels = value_count.index,\n",
    "       startangle = 90,\n",
    "       explode=[0, 0.05])\n",
    "ax.legend();"
   ]
  },
  {
   "cell_type": "code",
   "execution_count": 48,
   "id": "f65a69d4-76aa-4cc4-bbed-c3443fa103e9",
   "metadata": {},
   "outputs": [
    {
     "data": {
      "text/plain": [
       "X6     0.309136\n",
       "X15    0.242305\n",
       "X7     0.011409\n",
       "X17    0.011348\n",
       "X2     0.006620\n",
       "X1     0.006287\n",
       "X13    0.003789\n",
       "X12    0.000986\n",
       "X10   -0.000242\n",
       "X16   -0.000422\n",
       "X3    -0.001705\n",
       "X19   -0.006328\n",
       "X11   -0.006625\n",
       "X14   -0.007021\n",
       "X0    -0.047974\n",
       "X9    -0.129168\n",
       "X18   -0.137856\n",
       "X8    -0.179548\n",
       "X5    -0.182394\n",
       "X4    -0.245310\n",
       "Name: target, dtype: float64"
      ]
     },
     "execution_count": 48,
     "metadata": {},
     "output_type": "execute_result"
    }
   ],
   "source": [
    "se_corr = df.corr()[\"target\"].sort_values(ascending=False).iloc[1:]\n",
    "se_corr"
   ]
  },
  {
   "cell_type": "code",
   "execution_count": 62,
   "id": "d8893b8c-0d31-48aa-8269-ee319829d82c",
   "metadata": {},
   "outputs": [
    {
     "data": {
      "image/png": "[encoded data removed]",
      "text/plain": [
       "<Figure size 1200x500 with 1 Axes>"
      ]
     },
     "metadata": {},
     "output_type": "display_data"
    }
   ],
   "source": [
    "fig, ax = plt.subplots(figsize=(12,5))\n",
    "ax.set_axisbelow(True)\n",
    "ax.yaxis.grid(linestyle = 'dashed')\n",
    "sns.barplot(se_corr)\n",
    "plt.xticks(rotation = 45, ha='right');"
   ]
  },
  {
   "cell_type": "markdown",
   "id": "ea61005b",
   "metadata": {},
   "source": [
    "# Dataset Preparation\n",
    "\n",
    "Prepare the train & test sets with a size of the latter equal to 10% of the entire data population."
   ]
  },
  {
   "cell_type": "code",
   "execution_count": 66,
   "id": "c9d5a82c",
   "metadata": {},
   "outputs": [],
   "source": [
    "X = df.drop(\"target\", axis = 1)\n",
    "y = df[\"target\"]"
   ]
  },
  {
   "cell_type": "code",
   "execution_count": 67,
   "id": "847ae97d-2bf9-4d3e-9ed1-6a22664a9875",
   "metadata": {},
   "outputs": [],
   "source": [
    "from sklearn.model_selection import train_test_split"
   ]
  },
  {
   "cell_type": "code",
   "execution_count": 69,
   "id": "812a36ac-38d6-44d7-9a3e-435e430f0d42",
   "metadata": {},
   "outputs": [],
   "source": [
    "X_train, X_test, y_train, y_test = train_test_split(X,y)"
   ]
  },
  {
   "cell_type": "code",
   "execution_count": 70,
   "id": "34a7ca77-318f-42b1-ab23-fe2961ba5fa1",
   "metadata": {},
   "outputs": [
    {
     "data": {
      "text/plain": [
       "((15000, 20), (5000, 20))"
      ]
     },
     "execution_count": 70,
     "metadata": {},
     "output_type": "execute_result"
    }
   ],
   "source": [
    "X_train.shape, X_test.shape"
   ]
  },
  {
   "cell_type": "markdown",
   "id": "c865839d",
   "metadata": {},
   "source": [
    "# Model Experiements\n",
    "\n",
    "Now, import the following classifier classes:\n",
    "- AdaBoostClassifier\n",
    "- GradientBoostingClassifier\n",
    "- RandomForestClassifier\n",
    "- HistGradientBoostingClassifier\n",
    "- DecisionTreeClassifier\n",
    "\n",
    "and these classification metrics:\n",
    "- accuracy_score, roc_curve, roc_auc_score\n",
    "\n",
    "The goal is to train and evaluate classification models, and measure their execution times. In order to achieve, it is recommended to develop a piece of code (either a set classes or functions ) and have a systematic approach to our experiment. Think about writing such a program which will allow you to repeat the experiements iteratively and consistently.\n",
    "\n",
    "The experiement setup includes the following class tunes:\n",
    "\n",
    "- stump decision tree with maximum depth 2\n",
    "- deep decision tree with maximum depth 5\n",
    "- random forest with 100 shallow trees\n",
    "- random forest with 100 deep trees\n",
    "- adaptive boosted decision trees  with 10 estimators used in boosting\n",
    "- adaptive boosted decision trees  with 100 estimators used in boosting\n",
    "- gradient boosted decision trees  with 10 estimators used in boosting\n",
    "- gradient boosted decision trees  with 100 estimators used in boosting\n",
    "- histogram-based gradient boosted decision trees  with maximum depth of 2 and 10 maximum tries for the boosting process\n",
    "- histogram-based gradient boosted decision trees  with maximum depth of 2 and 100 maximum tries for the boosting process\n",
    "- histogram-based gradient boosted decision trees  with maximum depth of 5 and 10 maximum tries for the boosting process\n",
    "- histogram-based gradient boosted decision trees  with maximum depth of 5 and 100 maximum tries for the boosting process\n",
    "\n",
    "Record and then report the following measurements:\n",
    "\n",
    "- algorithm speed (training time)\n",
    "- accuracy over the test set\n",
    "- model overfitting defined as `accuracy_train/ accuracy_test-1`\n",
    "- ROC-AUC over the test set\n",
    "- model overfitting defined as `roc_auc_train/ roc_auc_test-1`\n",
    "- cross-validated mean accuracy of the test folds\n",
    "- mean time of cross-validation\n",
    "\n",
    "The cross-validation should use a stratified k-fold strategy with $k=5$.\n",
    "\n",
    "Bonus task:\n",
    "- overlay and compare the ROC curves of all models\n",
    "\n",
    "**Happy coding!**"
   ]
  },
  {
   "cell_type": "code",
   "execution_count": 78,
   "id": "d958d45e",
   "metadata": {},
   "outputs": [],
   "source": [
    "from sklearn.ensemble import AdaBoostClassifier, GradientBoostingClassifier, RandomForestClassifier, HistGradientBoostingClassifier\n",
    "from sklearn.tree import DecisionTreeClassifier\n",
    "from sklearn.metrics import accuracy_score, roc_curve, roc_auc_score"
   ]
  },
  {
   "cell_type": "code",
   "execution_count": 79,
   "id": "97731efa-e9c0-4e29-98ed-53a191c1495a",
   "metadata": {},
   "outputs": [],
   "source": [
    "from dataclasses import dataclass, field\n",
    "from typing import Any, Union"
   ]
  },
  {
   "cell_type": "code",
   "execution_count": 81,
   "id": "d0b51f0c-ad00-4d06-89cf-cf763b90b748",
   "metadata": {},
   "outputs": [],
   "source": [
    "@dataclass\n",
    "class BoostModel:\n",
    "    name: str\n",
    "    model: Union[AdaBoostClassifier, GradientBoostingClassifier, RandomForestClassifier, HistGradientBoostingClassifier, DecisionTreeClassifier]\n",
    "    X_train: pd.DataFrame\n",
    "    y_train: pd.Series\n",
    "    X_test: pd.DataFrame\n",
    "    y_test: pd.Series\n",
    "    # derived attributes\n",
    "    features: list[str] = field(init=None)\n",
    "    y_train_pred_cls: Any = field(init=None)\n",
    "    y_train_pred_prb: Any = field(init=None)\n",
    "    y_test_pred_cls: Any = field(init=None)\n",
    "    y_test_pred_prb: Any = field(init=None)\n",
    "    accuracy_train: float = field(init=None)\n",
    "    accuracy_test: float = field(init=None)\n",
    "    overfit: float = field(init=None)\n",
    "    importances: pd.Series = field(init=None)\n",
    "    ftr_test: Any = field(init=None)\n",
    "    tpr_test: Any = field(init=None)\n",
    "    roc_auc_score_test: Any = field(init=None)\n",
    "        \n",
    "    @property\n",
    "    def report(self)->dict[str, float]:\n",
    "        return {\n",
    "            \"model\": self.name,\n",
    "            \"accuracy train\": self.accuracy_train, \n",
    "            \"accuracy test\": self.accuracy_test,\n",
    "            \"overfit\": self.accuracy_train/self.accuracy_test - 1\n",
    "               }\n",
    "    \n",
    "        \n",
    "\n",
    "    def __post_init__(self):\n",
    "        self.features = self.X_train.columns.to_list()\n",
    "        \n",
    "        self.model = self.model.fit(self.X_train, self.y_train)\n",
    "        \n",
    "        self.y_train_pred_cls = self.model.predict(self.X_train) \n",
    "        self.y_train_pred_prb = self.model.predict_proba(self.X_train)\n",
    "        \n",
    "        self.y_test_pred_cls = self.model.predict(self.X_test)\n",
    "        self.y_test_pred_prb = self.model.predict_proba(self.X_test)\n",
    "        \n",
    "        self.accuracy_train = accuracy_score(self.y_train, self.y_train_pred_cls)\n",
    "        self.accuracy_test = accuracy_score(self.y_test, self.y_test_pred_cls)\n",
    "        \n",
    "        self.fpr_test, self.tpr_test, _ = roc_curve(y_true=self.y_test, \n",
    "                                                    y_score=self.y_test_pred_prb[:,1])\n",
    "        \n",
    "        self.roc_auc_score_test = roc_auc_score(y_true=self.y_test, \n",
    "                                                y_score=self.y_test_pred_prb[:,1])\n",
    "        \n",
    "        self.importances = pd.Series(self.model.feature_importances_, index=self.features).sort_values(ascending=False)"
   ]
  },
  {
   "cell_type": "code",
   "execution_count": null,
   "id": "41bb70c6-65f9-4bfd-ad3b-f431e97bb478",
   "metadata": {},
   "outputs": [],
   "source": []
  },
  {
   "cell_type": "code",
   "execution_count": null,
   "id": "707ac008-7320-4a38-b746-6667c73a8e70",
   "metadata": {},
   "outputs": [],
   "source": []
  },
  {
   "cell_type": "code",
   "execution_count": null,
   "id": "51b2ca45-847e-4870-abc0-db55c8f4ff79",
   "metadata": {},
   "outputs": [],
   "source": []
  },
  {
   "cell_type": "code",
   "execution_count": null,
   "id": "03980bbe-2836-4c7f-8abb-bdf04d81d783",
   "metadata": {},
   "outputs": [],
   "source": []
  },
  {
   "cell_type": "code",
   "execution_count": null,
   "id": "9ec79044-2403-4931-9078-253ac47f21d7",
   "metadata": {},
   "outputs": [],
   "source": []
  },
  {
   "cell_type": "code",
   "execution_count": null,
   "id": "01f102a2-1e8d-4d29-b951-dd701a05373c",
   "metadata": {},
   "outputs": [],
   "source": []
  },
  {
   "cell_type": "code",
   "execution_count": null,
   "id": "0d516ae6-4555-4d3e-82d6-82f48a7e6257",
   "metadata": {},
   "outputs": [],
   "source": []
  },
  {
   "cell_type": "code",
   "execution_count": null,
   "id": "58fc298f-baf7-4a2c-9e8f-b0ea43fe657f",
   "metadata": {},
   "outputs": [],
   "source": []
  },
  {
   "cell_type": "code",
   "execution_count": null,
   "id": "67906ca3-4010-4efa-b4b6-d266f4daaacd",
   "metadata": {},
   "outputs": [],
   "source": []
  },
  {
   "cell_type": "markdown",
   "id": "308318e1",
   "metadata": {},
   "source": [
    "# Observations\n",
    "\n",
    "Provided in the \"Solutions\" notebook."
   ]
  },
  {
   "cell_type": "markdown",
   "id": "29d68f2d",
   "metadata": {},
   "source": [
    "# Outstanding!"
   ]
  }
 ],
 "metadata": {
  "kernelspec": {
   "display_name": "MyVenv",
   "language": "python",
   "name": "myvenv"
  },
  "language_info": {
   "codemirror_mode": {
    "name": "ipython",
    "version": 3
   },
   "file_extension": ".py",
   "mimetype": "text/x-python",
   "name": "python",
   "nbconvert_exporter": "python",
   "pygments_lexer": "ipython3",
   "version": "3.12.6"
  }
 },
 "nbformat": 4,
 "nbformat_minor": 5
}
